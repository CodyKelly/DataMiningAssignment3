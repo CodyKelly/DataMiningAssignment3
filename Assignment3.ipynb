{
 "cells": [
  {
   "cell_type": "markdown",
   "metadata": {
    "deletable": false
   },
   "source": [
    "<h1><strong>CSCI 4455&ndash; Fall 2022</strong></h1>\n",
    "\n",
    "<h2><strong>Assignment 3 - Frequent Pattern Mining</strong></h2>\n",
    "\n",
    "<h3><strong><span style=\"color:#cc3300;\">Due: November 16, 08:59pm </span></strong></h3>\n",
    "\n",
    "<h3><strong>Your name: Cody Kelly</strong></h3>"
   ]
  },
  {
   "cell_type": "markdown",
   "metadata": {
    "deletable": false
   },
   "source": [
    "<ul>\n",
    "<li style=\"text-align: justify;\">Please note that you must do this assignment&nbsp;<span style=\"color: #cc3300;\"><strong><u>individually</u></strong></span>. Using automatic tools, your code will be checked against other submissions and other existing resources (such as websites and books).</li>\n",
    "<li style=\"text-align: justify;\">This assignment is more extensive and might take longer than previous assignments to finish. <span style=\"color: #339966;\"><strong><u>Please start early on.</u></strong></span></li>\n",
    "<li style=\"text-align: justify;\">Review the lecture notes before starting with this assignment. Then, thoroughly read this document before starting with the implementation or thinking about the solution.</li>\n",
    "<li style=\"text-align: justify;\">If you have technical questions about Python, please Google the error messages and share the error message alongside the solution that got it fixed on Microsoft Teams, as your classmates may run into the same issues.</li>\n",
    "<li style=\"text-align: justify;\">Check Canvas regularly for possible clarifications and updates.</li>\n",
    "<li style=\"text-align: justify;\">There are libraries and scripts for frequent pattern mining, but you are <span style=\"color: #cc3300;\"><strong>prohibited to use these existing resources</strong></span>, which means you <span style=\"color: #cc3300;\"><strong>cannot include public libraries</strong></span>, or <span style=\"color: #cc3300;\"><strong>modify existing programs. Do not import any libraries. All the needed one are already imported for you.</strong></span> since the purpose   of   this   programming   assignment   is   to   help you understand and implement frequent pattern mining algorithms. You need to develop your code from scratch.</li>\n",
    "</ul>\n"
   ]
  },
  {
   "cell_type": "markdown",
   "metadata": {
    "deletable": false
   },
   "source": [
    "<h2>Dataset</h2>\n",
    "\n",
    "<p style=\"text-align: justify;\">A dataset is provided with this assignment that contains retail market basket data from an anonymous Belgian retail store. \n",
    "    \n",
    "The retail dataset was originally used in the following paper: <a href=\"http://fimi.uantwerpen.be/data/retail.pdf\">paper link.</a>\n",
    "\n",
    "    \n",
    "Each line in the .txt file shows the items purchased in one transaction (transaction IDs are not provided), and items are separated by a space.    \n",
    "</p>"
   ]
  },
  {
   "cell_type": "markdown",
   "metadata": {
    "deletable": false
   },
   "source": [
    "<h2>Implementation</h2>\n",
    "\n",
    "<p style=\"text-align: justify;\">Please consider the following in your implementation:<br>\n",
    "    \n",
    "<ul>\n",
    "\n",
    "<li style=\"text-align: justify;\">You are not allowed to use frequent itemset mining libraries and need to implement your code from scratch. However, you are allowed to use Python built-in functions, such as min, max, average, map, apply, reduce, etc.</li>\n",
    "<li style=\"text-align: justify;\">Ensure that the cells in your Notebook are ordered correctly so that the “run all” option can run all cells without running to dependency issues.</li>\n",
    "</ul>\n",
    "\n",
    "<span style=\"text-align: justify;\"><strong><u>Hint</u></strong> Running the code with the provided dataset may take a long time. Moreover, verifying the correctness of your code with the provided dataset is not easy since it contains many transactions. Therefore, you should use a small dataset with a few transactions during the implementation to test your code fast and verify the results. However, note that you may obtain correct results for a small dataset, even though your code may have bugs, so eventually, you should try your code with the larger dataset.\n",
    "</span>\n",
    "</p>"
   ]
  },
  {
   "cell_type": "code",
   "execution_count": 14,
   "metadata": {
    "deletable": false
   },
   "outputs": [],
   "source": [
    "import matplotlib.pyplot as plt\n",
    "import collections\n",
    "import math\n",
    "from itertools import combinations\n",
    "import time\n",
    "import csv\n",
    "from anytree import Node, RenderTree\n",
    "\n",
    "\n",
    "dataset_name =   'retail.txt'     # dataset_name: that is the dataset name (such as dataset.txt)\n",
    "patterns_path =  'patterns.csv'   # the file name that will store the frequent patterns\n",
    "negative_path = 'negative.csv'    # the file name that will store the negatively correlated items\n",
    "rules_path =     'rules.csv'      # the file name that will store the maximal patterns\n",
    "maximal_path =   'maximal.csv'    # the file name that will store the association rules\n",
    "min_support =     0.0015          # minimum support threshold which is in percentage format (for example 0.2 means 20%)\n",
    "min_confidence =  0.9             # the minimum confidence threshold in the percentage format"
   ]
  },
  {
   "cell_type": "markdown",
   "metadata": {},
   "source": [
    "<p>Note that in the rest of this Notebook, support count refers to the raw frequency (i.e., the number of times an itemsets occurs in a database), while support is the normalized support count which is equal to $\\frac{\\text{support count}}{\\text{the number of transactions}}$ </p>"
   ]
  },
  {
   "cell_type": "markdown",
   "metadata": {
    "deletable": false
   },
   "source": [
    "<h2>Implement the FP-Growth Algorithm (30 Points)</h2>\n",
    "\n",
    "<p style=\"text-align: justify;\">Implement the FP-Growth algorithm, as discussed in the lecture notes. Display the total execution time, and the total number of frequent patterns in the following format (the provided values are hypothetical):\n",
    "\n",
    "    Execution time: 20 seconds\n",
    "    Frequent itemsets: 10,123\n",
    "    \n",
    "Each line must contain one pattern, its support count, and support. For example, the pattern A-B-C with support count 4 and support 0.5 must be saved in one line as A-B-C,4,0.5 in the <i><u>patterns.csv</u></i> file.\n",
    "</p>"
   ]
  },
  {
   "cell_type": "code",
   "execution_count": 15,
   "metadata": {},
   "outputs": [
    {
     "name": "stdout",
     "output_type": "stream",
     "text": [
      "[[3], [32], [], [39, 38, 41, 36], [39, 48, 38, 47], [39, 48, 38, 56], [41, 32], [39, 48, 3], [65, 66], [32], [48], [39, 78, 79], [39, 48, 38, 41, 36, 79], [], [41], [39, 48, 89], [39, 48, 38, 36, 89], [39, 41], [39, 38, 41], [39], [], [48], [39, 48, 140], [39], [39, 38, 56], [48], [39, 48, 41], [], [39, 48, 38], [39, 48, 41, 32], [39, 48, 38, 32, 47, 179], [39, 186], [48, 38, 41, 36, 140], [39, 48, 186, 193], [39], [39, 65, 193], [179], [225], [39, 48, 41, 230], [39, 38, 36, 242], [39], [39, 48, 41], [39, 48, 65], [48, 230], [39, 48, 242, 66, 78], [39, 48], [39, 38, 36, 225], [39, 242]]\n"
     ]
    }
   ],
   "source": [
    "support_counts = {}\n",
    "transactions = []\n",
    "total_items = 0\n",
    "\n",
    "with open(dataset_name) as file:\n",
    "    for line in file:\n",
    "        transaction = []\n",
    "        for item in line.split():\n",
    "            intitem = int(item)\n",
    "            if intitem not in support_counts:\n",
    "                support_counts[intitem] = 1\n",
    "            else:\n",
    "                support_counts[intitem] += 1\n",
    "            transaction.append(intitem)\n",
    "            total_items += 1\n",
    "        transactions.append(transaction)\n",
    "\n",
    "# sorted_support_counts = [k for k, v in sorted(support_counts.items(), key=lambda item: item[1], reverse=True) if v > round(min_support * len(items))]\n",
    "\n",
    "for i in range(len(transactions)):\n",
    "    transaction = transactions[i]\n",
    "    transactions[i] = ([item for item in sorted(transaction, key=lambda x:support_counts[x], reverse=True) if support_counts[item] > round(min_support * total_items)])\n",
    "    \n",
    "print(transactions)\n",
    "\n"
   ]
  },
  {
   "cell_type": "code",
   "execution_count": 16,
   "metadata": {},
   "outputs": [
    {
     "name": "stdout",
     "output_type": "stream",
     "text": [
      "tid: 193, children: []\n",
      "tid: 39, children: [48, 38, 47, 78, 79, 41, 186, 65, 193, 242]\n",
      "tid: 48, children: [38, 56, 3, 89, 140, 41, 186, 193, 65, 242, 66, 78]\n",
      "tid: 38, children: [41, 36, 79, 32, 47, 179]\n",
      "tid: 41, children: []\n",
      "tid: 242, children: []\n",
      "tid: -1, children: [3, 32, 39, 38, 41, 36, 65, 66, 48, 179, 225]\n",
      "tid: 3, children: []\n",
      "tid: -1, children: [3, 32, 39, 38, 41, 36, 65, 66, 48, 179, 225]\n",
      "tid: 3, children: []\n"
     ]
    },
    {
     "ename": "TypeError",
     "evalue": "__str__ returned non-string (type NoneType)",
     "output_type": "error",
     "traceback": [
      "\u001B[0;31m---------------------------------------------------------------------------\u001B[0m",
      "\u001B[0;31mTypeError\u001B[0m                                 Traceback (most recent call last)",
      "\u001B[0;32m/tmp/ipykernel_60330/3472956663.py\u001B[0m in \u001B[0;36m<module>\u001B[0;34m\u001B[0m\n\u001B[1;32m     26\u001B[0m             \u001B[0mcurrent_node\u001B[0m\u001B[0;34m.\u001B[0m\u001B[0mchildren\u001B[0m\u001B[0;34m.\u001B[0m\u001B[0mappend\u001B[0m\u001B[0;34m(\u001B[0m\u001B[0mnew_child\u001B[0m\u001B[0;34m)\u001B[0m\u001B[0;34m\u001B[0m\u001B[0;34m\u001B[0m\u001B[0m\n\u001B[1;32m     27\u001B[0m \u001B[0;34m\u001B[0m\u001B[0m\n\u001B[0;32m---> 28\u001B[0;31m \u001B[0mprint\u001B[0m\u001B[0;34m(\u001B[0m\u001B[0mroot_node\u001B[0m\u001B[0;34m)\u001B[0m\u001B[0;34m\u001B[0m\u001B[0;34m\u001B[0m\u001B[0m\n\u001B[0m\u001B[1;32m     29\u001B[0m \u001B[0;34m\u001B[0m\u001B[0m\n",
      "\u001B[0;32m/tmp/ipykernel_60330/3472956663.py\u001B[0m in \u001B[0;36m__str__\u001B[0;34m(self)\u001B[0m\n\u001B[1;32m      8\u001B[0m         \u001B[0mprint\u001B[0m\u001B[0;34m(\u001B[0m\u001B[0;34mf\"tid: {self.tid}, children: {[child.tid for child in self.children]}\"\u001B[0m\u001B[0;34m)\u001B[0m\u001B[0;34m\u001B[0m\u001B[0;34m\u001B[0m\u001B[0m\n\u001B[1;32m      9\u001B[0m         \u001B[0;32mfor\u001B[0m \u001B[0mchild\u001B[0m \u001B[0;32min\u001B[0m \u001B[0mself\u001B[0m\u001B[0;34m.\u001B[0m\u001B[0mchildren\u001B[0m\u001B[0;34m:\u001B[0m\u001B[0;34m\u001B[0m\u001B[0;34m\u001B[0m\u001B[0m\n\u001B[0;32m---> 10\u001B[0;31m             \u001B[0mprint\u001B[0m\u001B[0;34m(\u001B[0m\u001B[0mchild\u001B[0m\u001B[0;34m)\u001B[0m\u001B[0;34m\u001B[0m\u001B[0;34m\u001B[0m\u001B[0m\n\u001B[0m\u001B[1;32m     11\u001B[0m \u001B[0;34m\u001B[0m\u001B[0m\n\u001B[1;32m     12\u001B[0m \u001B[0mroot_node\u001B[0m \u001B[0;34m=\u001B[0m \u001B[0mNode\u001B[0m\u001B[0;34m(\u001B[0m\u001B[0;34m-\u001B[0m\u001B[0;36m1\u001B[0m\u001B[0;34m,\u001B[0m \u001B[0;32mNone\u001B[0m\u001B[0;34m)\u001B[0m\u001B[0;34m\u001B[0m\u001B[0;34m\u001B[0m\u001B[0m\n",
      "\u001B[0;31mTypeError\u001B[0m: __str__ returned non-string (type NoneType)"
     ]
    }
   ],
   "source": [
    "class Node:\n",
    "    def __init__(self, tid, parent):\n",
    "        self.tid = tid\n",
    "        self.count = 0\n",
    "        self.parent = parent\n",
    "        self.children = []\n",
    "    def __str__(self):\n",
    "        print(f\"tid: {self.tid}, children: {[child.tid for child in self.children]}\")\n",
    "        for child in self.children:\n",
    "            print(child)\n",
    "\n",
    "root_node = Node(-1, None)\n",
    "for transaction in transactions:\n",
    "    current_node = root_node\n",
    "    for item in transaction:\n",
    "        child_found = False\n",
    "        for child in current_node.children:\n",
    "            if child.tid == item:\n",
    "                child.count += 1\n",
    "                current_node = child\n",
    "                child_found = True\n",
    "                break\n",
    "        if not child_found:\n",
    "            new_child = Node(item, current_node)\n",
    "            new_child.count += 1\n",
    "            current_node.children.append(new_child)\n",
    "\n",
    "print(root_node)\n",
    "        "
   ]
  },
  {
   "cell_type": "markdown",
   "metadata": {},
   "source": [
    "<h2>Find the negative correlated itemsets (10 Points)</h2>\n",
    "\n",
    "<p style=\"text-align: justify;\">Find the items (with length 1) that are negatively correlated among all the generated frequent items. Two frequent items, X and Y, are negatively correlated if:\n",
    "support{X,Y} $\\lt$ support{X} * support{Y}. Hint: Find the frequent items (length 1) in your patterns.csv file; then for each item you have, using the negatively correlated items' formula find the negatively correlated items for it. </p>\n",
    "\n",
    "<p style=\"text-align: justify;\">\n",
    "Each line in your <i>negative.csv</i> output file must contain two items.\n",
    "</p>\n"
   ]
  },
  {
   "cell_type": "code",
   "execution_count": null,
   "metadata": {},
   "outputs": [],
   "source": [
    "# write the code to find the negatively correlated items here\n",
    "# you can insert more cells below, if needed"
   ]
  },
  {
   "cell_type": "markdown",
   "metadata": {
    "deletable": false
   },
   "source": [
    "<h2>Find Maximal Itemsets (20 Points)</h2>\n",
    "\n",
    "<p style=\"text-align: justify;\">Find the maximal itemset among all the generated frequent patterns. You do not need to implement a maximal itemset mining algorithm (such as the Charm algorithm that allows for mining maximal itemsets without mining the frequent itemsets). Instead, you can simply iterate through the frequent itemsets and identify the maximal ones.\n",
    "\n",
    "<p style=\"text-align: justify;\">Finally, display the number of maximal patterns and the compression ratio in the following format (the provided values are hypothetical):\n",
    "\n",
    "    Frequent itemsets: 10,000\n",
    "    Maximal patterns: 1,500\n",
    "    Compression ratio: 85%\n",
    "\n",
    "As before, each line in your <i>maximal.csv</i> output file must contain one pattern, its support count, and support.\n",
    "</p>\n",
    "\n",
    "\n",
    "<p style=\"text-align: justify;\"><strong>Hint</strong>: Iterate through the frequent itemsets with the reverse order that were mined in the previous step, i.e., from the longest itemset(s) to shorter one(s). </p>\n"
   ]
  },
  {
   "cell_type": "code",
   "execution_count": null,
   "metadata": {},
   "outputs": [],
   "source": [
    "# wrtie the code to implement and find maximal itemsets here\n",
    "# you can insert more cells below, if needed"
   ]
  },
  {
   "cell_type": "markdown",
   "metadata": {
    "deletable": false
   },
   "source": [
    "<h2>Mine the Association Rules (25 Points)</h2>\n",
    "\n",
    "\n",
    "<p style=\"text-align: justify;\">Implement association rule mining to generate strong association rules from the frequent itemsets generated in Step 1 using the below algorithm. Display the confidence for the top 20 rules with the highest confidence. Moreover, report the execution time as well as the number of strong rules in the following format (the provided values are hypothetical): </p>\n",
    "    \n",
    "    Execution time: 12 secodns \n",
    "    Strong rules: 2,300\n",
    "    Rule 1: A=>B,C, conf = 0.43\n",
    "    Rule 2: X=>Y, conf = 0.40\n",
    "\n",
    "Each line in the <i>rules.csv</i> file must contain one rule alongside its support count, support, confidence, and lift. For example, A-B=>C,4,0.5,0.2,0.8 shows the support count, support, and confidence for the rule A-B=>C."
   ]
  },
  {
   "cell_type": "code",
   "execution_count": null,
   "metadata": {},
   "outputs": [],
   "source": [
    "# write the code to implement and mine the association rules here\n",
    "# you can insert more cells below, if needed"
   ]
  },
  {
   "cell_type": "markdown",
   "metadata": {},
   "source": [
    "<h2>Visualization (5 Points)</h2>\n",
    "\n",
    "<p style=\"text-align: justify;\">Draw a scatter plot based on the lift and confidence you saved in the rules.csv file.(x-axis=lift, y-axis=confidence) </p>\n",
    "\n",
    "<p class=\"note\">Note: Make sure the plot has title and axes names.</p>"
   ]
  },
  {
   "cell_type": "code",
   "execution_count": 8,
   "metadata": {},
   "outputs": [],
   "source": [
    "# write the code to show a scatter plot of the association rules\n"
   ]
  },
  {
   "cell_type": "markdown",
   "metadata": {
    "deletable": false
   },
   "source": [
    "<h2>Sensitivity Analysis (10 Points)</h2>\n",
    "\n",
    "\n",
    "<p style=\"text-align: justify;\">Run the frequent pattern mining function with the following values of minimum support and measure the total number of frequent patterns and the execution time. Next, draw three line plots using the matplotlib library that shows how minimum support (the x-axis) affects the runtime and the frequent itemsets (the y-axis). Note that x and y axes must have proper titles.\n",
    "    \n",
    "Minimum support values:\n",
    "    \n",
    "    0.001, 0.002, 0.003, 0.004, 0.005, 0.006, 0.007, 0.008, 0.009, 0.01\n"
   ]
  },
  {
   "cell_type": "code",
   "execution_count": 9,
   "metadata": {},
   "outputs": [],
   "source": [
    "# write the code here\n",
    "# you can insert more cells below, if needed"
   ]
  },
  {
   "cell_type": "markdown",
   "metadata": {
    "deletable": false
   },
   "source": [
    "<h3>Coding Considerations</h3>\n",
    "<p style=\"text-align: justify;\">You must consider the following in your implementations:</p>\n",
    "<ul>\n",
    "<li class=\"a\"><span> The output CSV files should be generated in the same directory of your code when you run it. Use the naming provided in the Implementation section. </span>\n",
    "<li class=\"a\"><span> You should write your code in this Jupyter Notebook (*.ipynb) file which can generate the required reports itself.</span>\n",
    "<li class=\"a\"><span> Your code should be self-explanatory. Make sure you add comments and your output files are formatted correctly. You might lose up to 30 points for bad code quality (readability, modularity, comments, efficiency, etc.) and formatting of the output files.</span></li>\n",
    "</ul>"
   ]
  },
  {
   "cell_type": "markdown",
   "metadata": {
    "deletable": false
   },
   "source": [
    "<h2>Submission</h2>\n",
    "<p style=\"text-align: justify;\">Your python file or Jupyter Notebook file must generate all the abovementioned reports when you run it.</p>\n",
    "<p style=\"text-align: justify;\">You need to submit a zip file in Canvas, including the following items: \n",
    "\n",
    "<ul>\n",
    "<li class=\"a\"><span> a Jupyter Notebook (*.ipynb) file, named assignment3.ipynb that contains your completed code </span>\n",
    "<li class=\"a\"><span> patterns.csv that contains the frequent patterns</span>\n",
    "<li class=\"a\"><span> negative.csv that contains the negative corelated frequent itemsets.</span>\n",
    "<li class=\"a\"><span> maximal.csv that contains the maximal patterns</span>\n",
    "<li class=\"a\"><span> rules.csv that contains the association rules</span>\n",
    "<li class=\"a\"><span> results.pdf: a pdf file that contains all the requested charts and outputs (only copy the outputs (not the code itself) from your Notebook to this file. Also do not include the patterns and their supports in this file.)</span>\n",
    "    \n",
    "</li>\n",
    "</ul>\n",
    "    \n",
    "<span style=\"background-color: #ffff99;\">The file name should be in <strong>FirstName_LastName</strong> format</span>.</p>\n",
    "<p style=\"text-align: justify;\"><span style=\"background-color: #ffff99;\">DO NOT INCLUDE EXTRA FILES, SUCH AS THE INPUT DATASETS</span>, in your submission;</p>\n",
    "<p style=\"text-align: justify;\">Please download your assignment after submission and make sure it is not corrupted or empty! We will not be responsible for corrupted submissions and will not take a resubmission after the deadline.</p>"
   ]
  },
  {
   "cell_type": "markdown",
   "metadata": {},
   "source": [
    "<h2>Need Help?</h2>\n",
    "<p>If you need help with this assignment, please get in touch with TAs (on MS Teams or via email) or go to their office hours.</p>\n",
    "\n",
    "<p>You are highly encouraged to ask your question on the designated channel for Assignment 3 on Microsoft Teams (not necessarily monitored by the instructor/TAs). Feel free to help other students with general questions. However, DO NOT share your solution.</p>"
   ]
  }
 ],
 "metadata": {
  "celltoolbar": "Edit Metadata",
  "kernelspec": {
   "display_name": "Python 3 (ipykernel)",
   "language": "python",
   "name": "python3"
  },
  "language_info": {
   "codemirror_mode": {
    "name": "ipython",
    "version": 3
   },
   "file_extension": ".py",
   "mimetype": "text/x-python",
   "name": "python",
   "nbconvert_exporter": "python",
   "pygments_lexer": "ipython3",
   "version": "3.9.7"
  }
 },
 "nbformat": 4,
 "nbformat_minor": 2
}
